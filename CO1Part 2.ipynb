{
 "cells": [
  {
   "cell_type": "code",
   "execution_count": 1,
   "id": "558920b5-7ee0-44ae-94a8-1a1e8ce5c1c9",
   "metadata": {},
   "outputs": [
    {
     "name": "stderr",
     "output_type": "stream",
     "text": [
      "[nltk_data] Downloading package stopwords to\n",
      "[nltk_data]     C:\\Users\\Steven\\AppData\\Roaming\\nltk_data...\n",
      "[nltk_data]   Package stopwords is already up-to-date!\n",
      "[nltk_data] Downloading package punkt to\n",
      "[nltk_data]     C:\\Users\\Steven\\AppData\\Roaming\\nltk_data...\n",
      "[nltk_data]   Package punkt is already up-to-date!\n"
     ]
    },
    {
     "data": {
      "text/plain": [
       "True"
      ]
     },
     "execution_count": 1,
     "metadata": {},
     "output_type": "execute_result"
    }
   ],
   "source": [
    "import pandas as pd #libraries here\n",
    "import numpy as np\n",
    "from sklearn.model_selection import train_test_split\n",
    "from sklearn.feature_extraction.text import TfidfVectorizer, CountVectorizer # Or CountVectorizer\n",
    "from sklearn.linear_model import LogisticRegression # Or another classifier\n",
    "from sklearn.metrics import accuracy_score, classification_report\n",
    "import nltk\n",
    "from nltk.corpus import stopwords\n",
    "import string\n",
    "# Download necessary NLTK resources (run this once)\n",
    "nltk.download('stopwords')\n",
    "nltk.download('punkt')"
   ]
  },
  {
   "cell_type": "code",
   "execution_count": 2,
   "id": "92189854-c8ef-4f6c-bfcb-a609e45fb3b3",
   "metadata": {},
   "outputs": [],
   "source": [
    "df = pd.read_csv(\"dataset.csv\") #loading my dataset. I renamed it into dataset.csv"
   ]
  },
  {
   "cell_type": "markdown",
   "id": "4bf5cfa6-7f4a-49f6-a573-c5ab8114af65",
   "metadata": {},
   "source": [
    "## Downloaded from UVI Machine Learning repository: Recipe Reviews and User Feedback.csv\n",
    "## link: https://archive.ics.uci.edu/dataset/911/recipe+reviews+and+user+feedback+dataset\n",
    "\n",
    "#### Description:\n",
    "#### the dataset provides recipes with reviews and\n",
    "#### user feedback, such as thumbs_up, thumbs_down,\n",
    "#### and a user comment that we can analyze the\n",
    "#### words used maybe.\n"
   ]
  },
  {
   "cell_type": "code",
   "execution_count": 3,
   "id": "05d0602f-7a05-4588-adc2-f5e0005c13e6",
   "metadata": {},
   "outputs": [
    {
     "data": {
      "text/html": [
       "<div>\n",
       "<style scoped>\n",
       "    .dataframe tbody tr th:only-of-type {\n",
       "        vertical-align: middle;\n",
       "    }\n",
       "\n",
       "    .dataframe tbody tr th {\n",
       "        vertical-align: top;\n",
       "    }\n",
       "\n",
       "    .dataframe thead th {\n",
       "        text-align: right;\n",
       "    }\n",
       "</style>\n",
       "<table border=\"1\" class=\"dataframe\">\n",
       "  <thead>\n",
       "    <tr style=\"text-align: right;\">\n",
       "      <th></th>\n",
       "      <th>Unnamed: 0</th>\n",
       "      <th>recipe_number</th>\n",
       "      <th>recipe_code</th>\n",
       "      <th>recipe_name</th>\n",
       "      <th>comment_id</th>\n",
       "      <th>user_id</th>\n",
       "      <th>user_name</th>\n",
       "      <th>user_reputation</th>\n",
       "      <th>created_at</th>\n",
       "      <th>reply_count</th>\n",
       "      <th>thumbs_up</th>\n",
       "      <th>thumbs_down</th>\n",
       "      <th>stars</th>\n",
       "      <th>best_score</th>\n",
       "      <th>text</th>\n",
       "    </tr>\n",
       "  </thead>\n",
       "  <tbody>\n",
       "    <tr>\n",
       "      <th>0</th>\n",
       "      <td>0</td>\n",
       "      <td>1</td>\n",
       "      <td>14299</td>\n",
       "      <td>Creamy White Chili</td>\n",
       "      <td>sp_aUSaElGf_14299_c_2G3aneMRgRMZwXqIHmSdXSG1hEM</td>\n",
       "      <td>u_9iFLIhMa8QaG</td>\n",
       "      <td>Jeri326</td>\n",
       "      <td>1</td>\n",
       "      <td>1665619889</td>\n",
       "      <td>0</td>\n",
       "      <td>0</td>\n",
       "      <td>0</td>\n",
       "      <td>5</td>\n",
       "      <td>527</td>\n",
       "      <td>I tweaked it a little, removed onions because ...</td>\n",
       "    </tr>\n",
       "    <tr>\n",
       "      <th>1</th>\n",
       "      <td>1</td>\n",
       "      <td>1</td>\n",
       "      <td>14299</td>\n",
       "      <td>Creamy White Chili</td>\n",
       "      <td>sp_aUSaElGf_14299_c_2FsPC83HtzCsQAtOxlbL6RcaPbY</td>\n",
       "      <td>u_Lu6p25tmE77j</td>\n",
       "      <td>Mark467</td>\n",
       "      <td>50</td>\n",
       "      <td>1665277687</td>\n",
       "      <td>0</td>\n",
       "      <td>7</td>\n",
       "      <td>0</td>\n",
       "      <td>5</td>\n",
       "      <td>724</td>\n",
       "      <td>Bush used to have a white chili bean and it ma...</td>\n",
       "    </tr>\n",
       "    <tr>\n",
       "      <th>2</th>\n",
       "      <td>2</td>\n",
       "      <td>1</td>\n",
       "      <td>14299</td>\n",
       "      <td>Creamy White Chili</td>\n",
       "      <td>sp_aUSaElGf_14299_c_2FPrSGyTv7PQkZq37j92r9mYGkP</td>\n",
       "      <td>u_s0LwgpZ8Jsqq</td>\n",
       "      <td>Barbara566</td>\n",
       "      <td>10</td>\n",
       "      <td>1664404557</td>\n",
       "      <td>0</td>\n",
       "      <td>3</td>\n",
       "      <td>0</td>\n",
       "      <td>5</td>\n",
       "      <td>710</td>\n",
       "      <td>I have a very complicated white chicken chili ...</td>\n",
       "    </tr>\n",
       "    <tr>\n",
       "      <th>3</th>\n",
       "      <td>3</td>\n",
       "      <td>1</td>\n",
       "      <td>14299</td>\n",
       "      <td>Creamy White Chili</td>\n",
       "      <td>sp_aUSaElGf_14299_c_2DzdSIgV9qNiuBaLoZ7JQaartoC</td>\n",
       "      <td>u_fqrybAdYjgjG</td>\n",
       "      <td>jeansch123</td>\n",
       "      <td>1</td>\n",
       "      <td>1661787808</td>\n",
       "      <td>2</td>\n",
       "      <td>2</td>\n",
       "      <td>0</td>\n",
       "      <td>0</td>\n",
       "      <td>581</td>\n",
       "      <td>In your introduction, you mentioned cream chee...</td>\n",
       "    </tr>\n",
       "    <tr>\n",
       "      <th>4</th>\n",
       "      <td>4</td>\n",
       "      <td>1</td>\n",
       "      <td>14299</td>\n",
       "      <td>Creamy White Chili</td>\n",
       "      <td>sp_aUSaElGf_14299_c_2DtZJuRQYeTFwXBoZRfRhBPEXjI</td>\n",
       "      <td>u_XXWKwVhKZD69</td>\n",
       "      <td>camper77</td>\n",
       "      <td>10</td>\n",
       "      <td>1664913823</td>\n",
       "      <td>1</td>\n",
       "      <td>7</td>\n",
       "      <td>0</td>\n",
       "      <td>0</td>\n",
       "      <td>820</td>\n",
       "      <td>Wonderful! I made this for a &amp;#34;Chili/Stew&amp;#...</td>\n",
       "    </tr>\n",
       "  </tbody>\n",
       "</table>\n",
       "</div>"
      ],
      "text/plain": [
       "   Unnamed: 0  recipe_number  recipe_code         recipe_name  \\\n",
       "0           0              1        14299  Creamy White Chili   \n",
       "1           1              1        14299  Creamy White Chili   \n",
       "2           2              1        14299  Creamy White Chili   \n",
       "3           3              1        14299  Creamy White Chili   \n",
       "4           4              1        14299  Creamy White Chili   \n",
       "\n",
       "                                        comment_id         user_id  \\\n",
       "0  sp_aUSaElGf_14299_c_2G3aneMRgRMZwXqIHmSdXSG1hEM  u_9iFLIhMa8QaG   \n",
       "1  sp_aUSaElGf_14299_c_2FsPC83HtzCsQAtOxlbL6RcaPbY  u_Lu6p25tmE77j   \n",
       "2  sp_aUSaElGf_14299_c_2FPrSGyTv7PQkZq37j92r9mYGkP  u_s0LwgpZ8Jsqq   \n",
       "3  sp_aUSaElGf_14299_c_2DzdSIgV9qNiuBaLoZ7JQaartoC  u_fqrybAdYjgjG   \n",
       "4  sp_aUSaElGf_14299_c_2DtZJuRQYeTFwXBoZRfRhBPEXjI  u_XXWKwVhKZD69   \n",
       "\n",
       "    user_name  user_reputation  created_at  reply_count  thumbs_up  \\\n",
       "0     Jeri326                1  1665619889            0          0   \n",
       "1     Mark467               50  1665277687            0          7   \n",
       "2  Barbara566               10  1664404557            0          3   \n",
       "3  jeansch123                1  1661787808            2          2   \n",
       "4    camper77               10  1664913823            1          7   \n",
       "\n",
       "   thumbs_down  stars  best_score  \\\n",
       "0            0      5         527   \n",
       "1            0      5         724   \n",
       "2            0      5         710   \n",
       "3            0      0         581   \n",
       "4            0      0         820   \n",
       "\n",
       "                                                text  \n",
       "0  I tweaked it a little, removed onions because ...  \n",
       "1  Bush used to have a white chili bean and it ma...  \n",
       "2  I have a very complicated white chicken chili ...  \n",
       "3  In your introduction, you mentioned cream chee...  \n",
       "4  Wonderful! I made this for a &#34;Chili/Stew&#...  "
      ]
     },
     "execution_count": 3,
     "metadata": {},
     "output_type": "execute_result"
    }
   ],
   "source": [
    "df.head(5) #testing only, to show first 5 cols, adjust the number as I look more into them"
   ]
  },
  {
   "cell_type": "code",
   "execution_count": 4,
   "id": "6af76f65-f172-430e-a56b-86077fae5e6f",
   "metadata": {},
   "outputs": [
    {
     "data": {
      "text/plain": [
       "(18182, 15)"
      ]
     },
     "execution_count": 4,
     "metadata": {},
     "output_type": "execute_result"
    }
   ],
   "source": [
    "df.shape #ok, it has 18k rows, and 15 columns"
   ]
  },
  {
   "cell_type": "code",
   "execution_count": 5,
   "id": "1954487f-b367-461a-a5e7-877d612c13f0",
   "metadata": {},
   "outputs": [
    {
     "name": "stdout",
     "output_type": "stream",
     "text": [
      "<class 'pandas.core.frame.DataFrame'>\n",
      "RangeIndex: 18182 entries, 0 to 18181\n",
      "Data columns (total 15 columns):\n",
      " #   Column           Non-Null Count  Dtype \n",
      "---  ------           --------------  ----- \n",
      " 0   Unnamed: 0       18182 non-null  int64 \n",
      " 1   recipe_number    18182 non-null  int64 \n",
      " 2   recipe_code      18182 non-null  int64 \n",
      " 3   recipe_name      18182 non-null  object\n",
      " 4   comment_id       18182 non-null  object\n",
      " 5   user_id          18182 non-null  object\n",
      " 6   user_name        18182 non-null  object\n",
      " 7   user_reputation  18182 non-null  int64 \n",
      " 8   created_at       18182 non-null  int64 \n",
      " 9   reply_count      18182 non-null  int64 \n",
      " 10  thumbs_up        18182 non-null  int64 \n",
      " 11  thumbs_down      18182 non-null  int64 \n",
      " 12  stars            18182 non-null  int64 \n",
      " 13  best_score       18182 non-null  int64 \n",
      " 14  text             18180 non-null  object\n",
      "dtypes: int64(10), object(5)\n",
      "memory usage: 2.1+ MB\n"
     ]
    }
   ],
   "source": [
    "df.info() #here I can see all the columns."
   ]
  },
  {
   "cell_type": "markdown",
   "id": "399a2619-dc84-4e1f-a8ec-695e3aa97e3b",
   "metadata": {},
   "source": [
    "### I should be needing to use Columns:\n",
    "### user_reputation, reply_count, thumbs_up, thumbs_down, stars, best_score, and text\n",
    "\n",
    "#### for 'text', lets see if we can get the most common words used regardless of capitalization, and the amount of exclamation points. "
   ]
  },
  {
   "cell_type": "markdown",
   "id": "fa92d6ed-3043-4faf-8900-322cda674f8f",
   "metadata": {},
   "source": [
    "## Data Pre-processing\n"
   ]
  },
  {
   "cell_type": "code",
   "execution_count": 6,
   "id": "9b1324d2-a6c0-4ecb-b5d3-814b5a33654a",
   "metadata": {},
   "outputs": [],
   "source": [
    "#Converts this column to lowercase\n",
    "df[\"text\"] = df[\"text\"].str.lower()"
   ]
  },
  {
   "cell_type": "code",
   "execution_count": 7,
   "id": "86e2deab-81f4-4b60-b83b-38902bbad464",
   "metadata": {},
   "outputs": [],
   "source": [
    "import re   # Removes all punctuations\n",
    "df[\"text\"] = df[\"text\"].astype(str).apply(lambda x: re.sub(r'[^\\w\\s]', '', x))"
   ]
  },
  {
   "cell_type": "code",
   "execution_count": 8,
   "id": "080b6dd9-2d6c-4edd-9050-3bd3575ec933",
   "metadata": {},
   "outputs": [],
   "source": [
    "stop_words = set(stopwords.words(\"english\"))  #initialize stop words\n",
    "\n",
    "#function for stop words\n",
    "def remove_stopwords(text):\n",
    "    words = text.split()  # Split sentence into words\n",
    "    filtered_words = [word for word in words if word.lower() not in stop_words]\n",
    "    return \" \".join(filtered_words)\n",
    "\n",
    "\n",
    "df[\"text\"] = df[\"text\"].astype(str).apply(remove_stopwords)   #removes stop words, using above function\n"
   ]
  },
  {
   "cell_type": "markdown",
   "id": "a09d79af-4d68-4d62-bdb2-727980ff5abc",
   "metadata": {},
   "source": [
    "# Feature Extraction\n",
    "\n",
    "## Below of this cell is my weight factors and Thresholds that we can adjust.\n",
    "\n",
    "## Also we created the targets for model training. As these targets are human made, the results will depend highly on the settings of these cells below"
   ]
  },
  {
   "cell_type": "code",
   "execution_count": null,
   "id": "b54e3910-4191-4360-badf-1c927640be59",
   "metadata": {},
   "outputs": [],
   "source": []
  },
  {
   "cell_type": "code",
   "execution_count": 18,
   "id": "e7c763a3-e08a-4d4b-96ed-4319120f57b8",
   "metadata": {},
   "outputs": [],
   "source": [
    "def assign_sentiment(row):\n",
    "    # Define weight factors\n",
    "    thumbs_ratio = row[\"thumbs_up\"] - row[\"thumbs_down\"]  # Net thumbs score\n",
    "    stars_score = row[\"stars\"]\n",
    "    reply_boost = row[\"reply_count\"]  # Reply count impact\n",
    "\n",
    "    # Sentiment Logic (Adjust Thresholds as Needed)\n",
    "    if stars_score >= 4 or thumbs_ratio > 5 or reply_boost > 10:\n",
    "        return \"positive\"\n",
    "    elif stars_score == 3 or (thumbs_ratio >= -2 and thumbs_ratio <= 2):\n",
    "        return \"neutral\"\n",
    "    else:\n",
    "        return \"negative\"\n",
    "\n",
    "# Apply the function to create the sentiment label\n",
    "df[\"sentiment_label\"] = df.apply(assign_sentiment, axis=1)"
   ]
  },
  {
   "cell_type": "code",
   "execution_count": 10,
   "id": "e322f8d6-8939-4d15-902b-f3ee9b1e7c71",
   "metadata": {},
   "outputs": [
    {
     "name": "stdout",
     "output_type": "stream",
     "text": [
      "sentiment_label\n",
      "positive    15599\n",
      "neutral      2336\n",
      "negative      247\n",
      "Name: count, dtype: int64\n"
     ]
    }
   ],
   "source": [
    "print(df[\"sentiment_label\"].value_counts())  # Check how balanced my labels are"
   ]
  },
  {
   "cell_type": "markdown",
   "id": "349289b1-6ff6-4345-8b90-0a02fd7a2267",
   "metadata": {},
   "source": [
    "## Let's verify the labels we have created.\n",
    "#### as of writing, im googling how to do this\n"
   ]
  },
  {
   "cell_type": "code",
   "execution_count": 11,
   "id": "a4381a4a-20f1-4b74-8a31-9fe2d34be83f",
   "metadata": {},
   "outputs": [
    {
     "data": {
      "text/html": [
       "<div>\n",
       "<style scoped>\n",
       "    .dataframe tbody tr th:only-of-type {\n",
       "        vertical-align: middle;\n",
       "    }\n",
       "\n",
       "    .dataframe tbody tr th {\n",
       "        vertical-align: top;\n",
       "    }\n",
       "\n",
       "    .dataframe thead th {\n",
       "        text-align: right;\n",
       "    }\n",
       "</style>\n",
       "<table border=\"1\" class=\"dataframe\">\n",
       "  <thead>\n",
       "    <tr style=\"text-align: right;\">\n",
       "      <th></th>\n",
       "      <th>Unnamed: 0</th>\n",
       "      <th>recipe_number</th>\n",
       "      <th>recipe_code</th>\n",
       "      <th>recipe_name</th>\n",
       "      <th>comment_id</th>\n",
       "      <th>user_id</th>\n",
       "      <th>user_name</th>\n",
       "      <th>user_reputation</th>\n",
       "      <th>created_at</th>\n",
       "      <th>reply_count</th>\n",
       "      <th>thumbs_up</th>\n",
       "      <th>thumbs_down</th>\n",
       "      <th>stars</th>\n",
       "      <th>best_score</th>\n",
       "      <th>text</th>\n",
       "      <th>sentiment_label</th>\n",
       "    </tr>\n",
       "  </thead>\n",
       "  <tbody>\n",
       "    <tr>\n",
       "      <th>0</th>\n",
       "      <td>0</td>\n",
       "      <td>1</td>\n",
       "      <td>14299</td>\n",
       "      <td>Creamy White Chili</td>\n",
       "      <td>sp_aUSaElGf_14299_c_2G3aneMRgRMZwXqIHmSdXSG1hEM</td>\n",
       "      <td>u_9iFLIhMa8QaG</td>\n",
       "      <td>Jeri326</td>\n",
       "      <td>1</td>\n",
       "      <td>1665619889</td>\n",
       "      <td>0</td>\n",
       "      <td>0</td>\n",
       "      <td>0</td>\n",
       "      <td>5</td>\n",
       "      <td>527</td>\n",
       "      <td>tweaked little removed onions onion haters hou...</td>\n",
       "      <td>positive</td>\n",
       "    </tr>\n",
       "    <tr>\n",
       "      <th>1</th>\n",
       "      <td>1</td>\n",
       "      <td>1</td>\n",
       "      <td>14299</td>\n",
       "      <td>Creamy White Chili</td>\n",
       "      <td>sp_aUSaElGf_14299_c_2FsPC83HtzCsQAtOxlbL6RcaPbY</td>\n",
       "      <td>u_Lu6p25tmE77j</td>\n",
       "      <td>Mark467</td>\n",
       "      <td>50</td>\n",
       "      <td>1665277687</td>\n",
       "      <td>0</td>\n",
       "      <td>7</td>\n",
       "      <td>0</td>\n",
       "      <td>5</td>\n",
       "      <td>724</td>\n",
       "      <td>bush used white chili bean made recipe super s...</td>\n",
       "      <td>positive</td>\n",
       "    </tr>\n",
       "    <tr>\n",
       "      <th>2</th>\n",
       "      <td>2</td>\n",
       "      <td>1</td>\n",
       "      <td>14299</td>\n",
       "      <td>Creamy White Chili</td>\n",
       "      <td>sp_aUSaElGf_14299_c_2FPrSGyTv7PQkZq37j92r9mYGkP</td>\n",
       "      <td>u_s0LwgpZ8Jsqq</td>\n",
       "      <td>Barbara566</td>\n",
       "      <td>10</td>\n",
       "      <td>1664404557</td>\n",
       "      <td>0</td>\n",
       "      <td>3</td>\n",
       "      <td>0</td>\n",
       "      <td>5</td>\n",
       "      <td>710</td>\n",
       "      <td>complicated white chicken chili recipe made ye...</td>\n",
       "      <td>positive</td>\n",
       "    </tr>\n",
       "  </tbody>\n",
       "</table>\n",
       "</div>"
      ],
      "text/plain": [
       "   Unnamed: 0  recipe_number  recipe_code         recipe_name  \\\n",
       "0           0              1        14299  Creamy White Chili   \n",
       "1           1              1        14299  Creamy White Chili   \n",
       "2           2              1        14299  Creamy White Chili   \n",
       "\n",
       "                                        comment_id         user_id  \\\n",
       "0  sp_aUSaElGf_14299_c_2G3aneMRgRMZwXqIHmSdXSG1hEM  u_9iFLIhMa8QaG   \n",
       "1  sp_aUSaElGf_14299_c_2FsPC83HtzCsQAtOxlbL6RcaPbY  u_Lu6p25tmE77j   \n",
       "2  sp_aUSaElGf_14299_c_2FPrSGyTv7PQkZq37j92r9mYGkP  u_s0LwgpZ8Jsqq   \n",
       "\n",
       "    user_name  user_reputation  created_at  reply_count  thumbs_up  \\\n",
       "0     Jeri326                1  1665619889            0          0   \n",
       "1     Mark467               50  1665277687            0          7   \n",
       "2  Barbara566               10  1664404557            0          3   \n",
       "\n",
       "   thumbs_down  stars  best_score  \\\n",
       "0            0      5         527   \n",
       "1            0      5         724   \n",
       "2            0      5         710   \n",
       "\n",
       "                                                text sentiment_label  \n",
       "0  tweaked little removed onions onion haters hou...        positive  \n",
       "1  bush used white chili bean made recipe super s...        positive  \n",
       "2  complicated white chicken chili recipe made ye...        positive  "
      ]
     },
     "execution_count": 11,
     "metadata": {},
     "output_type": "execute_result"
    }
   ],
   "source": [
    "df.head(3)  # Ensure labels are correctly assigned"
   ]
  },
  {
   "cell_type": "code",
   "execution_count": 12,
   "id": "73699a00-7d40-40b5-9d63-feb3b881c8c3",
   "metadata": {},
   "outputs": [],
   "source": [
    "# TF-IDF Feature Extraction\n",
    "tfidf_vectorizer = TfidfVectorizer()\n",
    "X_tfidf = tfidf_vectorizer.fit_transform(df[\"text\"])  # Convert text to vectors\n",
    "\n",
    "# Bag of Words Feature Extraction\n",
    "bow_vectorizer = CountVectorizer()\n",
    "X_bow = bow_vectorizer.fit_transform(df[\"text\"])  # Convert text to word counts\n"
   ]
  },
  {
   "cell_type": "markdown",
   "id": "2c30718e-dc2c-48e5-b3e2-e9cf1478759e",
   "metadata": {},
   "source": [
    "## Splitting the data for Training \n",
    "### test_size=0.2 ensures 20% of the dataset is used for testing.\n",
    "### The remaining 80% is for training.\n",
    "### while stratify=df[\"sentiment_label\"] guarantees balanced sentiment representation.\n"
   ]
  },
  {
   "cell_type": "code",
   "execution_count": 13,
   "id": "286e440a-43ea-4b35-8d02-2296283cb224",
   "metadata": {},
   "outputs": [
    {
     "name": "stdout",
     "output_type": "stream",
     "text": [
      "TF-IDF Train Shape: (14545, 16511)\n",
      "Bag of Words Train Shape: (14545, 16511)\n"
     ]
    }
   ],
   "source": [
    "X_train_tfidf, X_test_tfidf, y_train, y_test = train_test_split(\n",
    "    X_tfidf, df[\"sentiment_label\"], test_size=0.2, stratify=df[\"sentiment_label\"], random_state=42\n",
    ")\n",
    "\n",
    "X_train_bow, X_test_bow, _, _ = train_test_split(\n",
    "    X_bow, df[\"sentiment_label\"], test_size=0.2, stratify=df[\"sentiment_label\"], random_state=42\n",
    ")\n",
    "\n",
    "print(\"TF-IDF Train Shape:\", X_train_tfidf.shape)\n",
    "print(\"Bag of Words Train Shape:\", X_train_bow.shape)\n"
   ]
  },
  {
   "cell_type": "markdown",
   "id": "e3c319d6-a3aa-4854-a0fd-06f66e2812e0",
   "metadata": {},
   "source": [
    "## Choose and Train a model, \n",
    "## lets go with Logistic regression\n"
   ]
  },
  {
   "cell_type": "code",
   "execution_count": 14,
   "id": "846b6143-d288-4cb0-b9dd-752a89608191",
   "metadata": {},
   "outputs": [],
   "source": [
    "# Instantiate model\n",
    "log_reg_model = LogisticRegression()\n",
    "\n",
    "# Train the model using TF-IDF features\n",
    "log_reg_model.fit(X_train_tfidf, y_train)\n",
    "\n",
    "# Predict on test data\n",
    "y_pred_tfidf = log_reg_model.predict(X_test_tfidf)"
   ]
  },
  {
   "cell_type": "markdown",
   "id": "1f14f9b6-33e5-4107-8729-c18daeb8c0f6",
   "metadata": {},
   "source": [
    "### Make Predictions: \n",
    "#### Use the trained model to make predictions on the testing feature vectors using the predict() method.\n",
    "\n"
   ]
  },
  {
   "cell_type": "code",
   "execution_count": 15,
   "id": "a3adab17-b9e5-4381-ad20-3e51acac8b81",
   "metadata": {},
   "outputs": [
    {
     "name": "stdout",
     "output_type": "stream",
     "text": [
      "Logistic Regression Accuracy: 0.8682980478416277\n"
     ]
    }
   ],
   "source": [
    "print(\"Logistic Regression Accuracy:\", accuracy_score(y_test, y_pred_tfidf))"
   ]
  },
  {
   "cell_type": "code",
   "execution_count": 16,
   "id": "dd29f5fd-c7b6-4a8f-94df-69c45e661e2c",
   "metadata": {},
   "outputs": [],
   "source": [
    "y_pred = log_reg_model.predict(X_test_tfidf)"
   ]
  },
  {
   "cell_type": "code",
   "execution_count": 17,
   "id": "d5b3ea05-3f95-414c-ad81-51c92c17ed17",
   "metadata": {},
   "outputs": [
    {
     "name": "stdout",
     "output_type": "stream",
     "text": [
      "Sample Predictions:\n",
      "Text: tweaked little removed onions onion haters house used italian seasoning instead oregano use paprika cayenne mix little recipe called like everything bit hot chili amazing easy make everyone absolutely loved staple meal house --> Predicted Sentiment: positive\n",
      "Text: bush used white chili bean made recipe super simple ive written asked please bring back --> Predicted Sentiment: positive\n",
      "Text: complicated white chicken chili recipe made years everyone raves saw recipe thought id try easy alternative weeknights husband likes recipe better super easy delicious cut back slightly crushed oregano cayenne pepper otherwise made exactly written --> Predicted Sentiment: positive\n",
      "Text: introduction mentioned cream cheese none listed ingredients --> Predicted Sentiment: positive\n",
      "Text: wonderful made 34chilistew34 night dinner church everyone wanted recipe make quite often home it39s always hit also use freshly made rotisserie chicken adds flavor --> Predicted Sentiment: positive\n",
      "Text: amazing boyfriend loved much going make week --> Predicted Sentiment: positive\n",
      "Text: wow recipe excellent written change made used 40 oz jar great northern beans tastes good right amount heat --> Predicted Sentiment: positive\n",
      "Text: delicious make often one time daughter husband two sons visiting us virginia made double batch served dinner one evening really made hit since small amount left put leftover refrigerator walked kitchen next morning see son law big bowl headed microwave puzzled gave big smile told first thing thought woke morning breakfast give soup 5 stars --> Predicted Sentiment: positive\n",
      "Text: absolutely love recipe i39ve tweaked quite bit want spicier chili exchange green chilis canned diced jalapenos it39s good way also add extra 4oz green chilisdiced jalapenos every time make double well made 15 times recipe it39s great extra large crowdsplenty leftovers it39s great snow day recipe i39ve made 3 times past 2 weeks --> Predicted Sentiment: positive\n",
      "Text: make lot kids friends come ask make time --> Predicted Sentiment: positive\n"
     ]
    }
   ],
   "source": [
    "print(\"Sample Predictions:\")\n",
    "for text, pred in zip(df[\"text\"].iloc[:10], y_pred[:10]):\n",
    "    print(f\"Text: {text} --> Predicted Sentiment: {pred}\")\n"
   ]
  },
  {
   "cell_type": "markdown",
   "id": "9245f972-d878-4753-a462-76b9981071e8",
   "metadata": {},
   "source": [
    "## Please verify the results of my sample prediction in the above cell, as they are\n",
    "## final for Part 2. Thank you.\n",
    "\n",
    "### by: Flogio, Steven Iefel D. "
   ]
  }
 ],
 "metadata": {
  "kernelspec": {
   "display_name": "Python 3 (ipykernel)",
   "language": "python",
   "name": "python3"
  },
  "language_info": {
   "codemirror_mode": {
    "name": "ipython",
    "version": 3
   },
   "file_extension": ".py",
   "mimetype": "text/x-python",
   "name": "python",
   "nbconvert_exporter": "python",
   "pygments_lexer": "ipython3",
   "version": "3.12.5"
  }
 },
 "nbformat": 4,
 "nbformat_minor": 5
}
